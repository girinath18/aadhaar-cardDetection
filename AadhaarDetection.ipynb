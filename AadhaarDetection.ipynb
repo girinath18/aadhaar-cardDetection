{
  "cells": [
    {
      "cell_type": "code",
      "source": [
        "!pip install kaggle"
      ],
      "metadata": {
        "colab": {
          "base_uri": "https://localhost:8080/"
        },
        "id": "cltEHUD4Y4hz",
        "outputId": "f338392d-c1b7-4795-9619-dd8da22b1415"
      },
      "execution_count": 1,
      "outputs": [
        {
          "output_type": "stream",
          "name": "stdout",
          "text": [
            "Requirement already satisfied: kaggle in /usr/local/lib/python3.10/dist-packages (1.5.16)\n",
            "Requirement already satisfied: six>=1.10 in /usr/local/lib/python3.10/dist-packages (from kaggle) (1.16.0)\n",
            "Requirement already satisfied: certifi in /usr/local/lib/python3.10/dist-packages (from kaggle) (2023.11.17)\n",
            "Requirement already satisfied: python-dateutil in /usr/local/lib/python3.10/dist-packages (from kaggle) (2.8.2)\n",
            "Requirement already satisfied: requests in /usr/local/lib/python3.10/dist-packages (from kaggle) (2.31.0)\n",
            "Requirement already satisfied: tqdm in /usr/local/lib/python3.10/dist-packages (from kaggle) (4.66.1)\n",
            "Requirement already satisfied: python-slugify in /usr/local/lib/python3.10/dist-packages (from kaggle) (8.0.1)\n",
            "Requirement already satisfied: urllib3 in /usr/local/lib/python3.10/dist-packages (from kaggle) (2.0.7)\n",
            "Requirement already satisfied: bleach in /usr/local/lib/python3.10/dist-packages (from kaggle) (6.1.0)\n",
            "Requirement already satisfied: webencodings in /usr/local/lib/python3.10/dist-packages (from bleach->kaggle) (0.5.1)\n",
            "Requirement already satisfied: text-unidecode>=1.3 in /usr/local/lib/python3.10/dist-packages (from python-slugify->kaggle) (1.3)\n",
            "Requirement already satisfied: charset-normalizer<4,>=2 in /usr/local/lib/python3.10/dist-packages (from requests->kaggle) (3.3.2)\n",
            "Requirement already satisfied: idna<4,>=2.5 in /usr/local/lib/python3.10/dist-packages (from requests->kaggle) (3.6)\n"
          ]
        }
      ]
    },
    {
      "cell_type": "code",
      "source": [
        "#configurating the path of kaggle.json file\n",
        "!mkdir -p ~/.kaggle\n",
        "!cp kaggle.json ~/.kaggle/\n",
        "!chmod 600 ~/.kaggle/kaggle.json"
      ],
      "metadata": {
        "id": "4cNOMwNlY51i"
      },
      "execution_count": 2,
      "outputs": []
    },
    {
      "cell_type": "code",
      "source": [
        "!kaggle datasets download -d girinathrs211555/aadhaar-datasets"
      ],
      "metadata": {
        "colab": {
          "base_uri": "https://localhost:8080/"
        },
        "id": "r97aFlSvY6PK",
        "outputId": "02918aaf-90ce-4efb-cc93-f504401c7c30"
      },
      "execution_count": 3,
      "outputs": [
        {
          "output_type": "stream",
          "name": "stdout",
          "text": [
            "aadhaar-datasets.zip: Skipping, found more recently modified local copy (use --force to force download)\n"
          ]
        }
      ]
    },
    {
      "cell_type": "code",
      "source": [
        "# extrcing the compossed Dataset\n",
        "from zipfile import ZipFile\n",
        "dataset = '/content/aadhaar-datasets.zip'\n",
        "\n",
        "with ZipFile(dataset,'r') as zip:\n",
        "  zip.extractall()\n",
        "  print('The dataset is extracted')"
      ],
      "metadata": {
        "colab": {
          "base_uri": "https://localhost:8080/"
        },
        "id": "ldpGjSwRZFmR",
        "outputId": "45cb3266-abfe-4ae6-961d-1d62fcae2480"
      },
      "execution_count": 4,
      "outputs": [
        {
          "output_type": "stream",
          "name": "stdout",
          "text": [
            "The dataset is extracted\n"
          ]
        }
      ]
    },
    {
      "cell_type": "code",
      "source": [
        "import os\n",
        "import numpy as np\n",
        "import matplotlib.pyplot as plt\n",
        "import matplotlib.image as mpimg\n",
        "import cv2\n",
        "from google.colab.patches import cv2_imshow\n",
        "from PIL import Image\n",
        "from sklearn.model_selection import train_test_split"
      ],
      "metadata": {
        "id": "9T_uqwH3RqYp"
      },
      "execution_count": 5,
      "outputs": []
    },
    {
      "cell_type": "code",
      "source": [
        "Aadhaar_card_files = os.listdir('/content/Aaadhaar AND Non aadhaar/Aadhaar')\n",
        "print(Aadhaar_card_files[0:5])\n",
        "\n",
        "print(Aadhaar_card_files[-5:])"
      ],
      "metadata": {
        "colab": {
          "base_uri": "https://localhost:8080/"
        },
        "id": "5i2eLSE1RyDF",
        "outputId": "3f68d44c-3977-41c8-ada1-ee21ca04a8f3"
      },
      "execution_count": 6,
      "outputs": [
        {
          "output_type": "stream",
          "name": "stdout",
          "text": [
            "['Aadhaar_card (3740).jpg', 'Aadhaar_card (1675).jpg', 'Aadhaar_card (371).jpg', 'Aadhaar_card (3661).jpg', 'Aadhaar_card (2918).jpg']\n",
            "['Aadhaar_card (3423).jpg', 'Aadhaar_card (2137).jpg', 'Aadhaar_card (2529).jpg', 'Aadhaar_card (4624).jpg', 'Aadhaar_card (1486).jpg']\n"
          ]
        }
      ]
    },
    {
      "cell_type": "code",
      "source": [
        "Non_aadhaar_card_files = os.listdir('/content/Aaadhaar AND Non aadhaar/Non Aadhaar')\n",
        "print(Non_aadhaar_card_files[0:5])\n",
        "\n",
        "print(Non_aadhaar_card_files[-5:])"
      ],
      "metadata": {
        "colab": {
          "base_uri": "https://localhost:8080/"
        },
        "id": "mYsM2XyJR5Ht",
        "outputId": "199174a7-36d8-4a04-879d-cd16743c176b"
      },
      "execution_count": 7,
      "outputs": [
        {
          "output_type": "stream",
          "name": "stdout",
          "text": [
            "['Non_Aadhaar  (207).jpg', 'Non_Aadhaar  (358).jpg', 'Non_Aadhaar  (789).jpg', 'Non_Aadhaar  (477).jfif', 'Non_Aadhaar  (1049).jfif']\n",
            "['Non_Aadhaar  (876).jpg', 'Non_Aadhaar  (2917).jpg', 'Non_Aadhaar  (3041).jpg', 'Non_Aadhaar  (1658).jpg', 'Non_Aadhaar  (1563).jpg']\n"
          ]
        }
      ]
    },
    {
      "cell_type": "code",
      "source": [
        "print('Number of with Aadhaar_card_files:', len(Aadhaar_card_files))\n",
        "print('Number of without Non_aadhaar_card_files:', len(Non_aadhaar_card_files))"
      ],
      "metadata": {
        "colab": {
          "base_uri": "https://localhost:8080/"
        },
        "id": "3hX6uT4aiwve",
        "outputId": "373c90e6-6479-4699-83fc-175c2e42363d"
      },
      "execution_count": 8,
      "outputs": [
        {
          "output_type": "stream",
          "name": "stdout",
          "text": [
            "Number of with Aadhaar_card_files: 5009\n",
            "Number of without Non_aadhaar_card_files: 5021\n"
          ]
        }
      ]
    },
    {
      "cell_type": "code",
      "source": [
        "#create the labels\n",
        "\n",
        "Aadhaar_card_labels = [1]*5009\n",
        "\n",
        "Non_aadhaar_card_labels = [0]*5021"
      ],
      "metadata": {
        "id": "TS8X04UKSCmr"
      },
      "execution_count": 9,
      "outputs": []
    },
    {
      "cell_type": "code",
      "source": [
        "# Checking wheather the labels are created as expected\n",
        "print(Aadhaar_card_labels[0:5])\n",
        "\n",
        "print(Non_aadhaar_card_labels[0:5])"
      ],
      "metadata": {
        "colab": {
          "base_uri": "https://localhost:8080/"
        },
        "id": "NRQUhij6SHz8",
        "outputId": "e9689c04-59c8-49c7-ac98-f35a4c420354"
      },
      "execution_count": 10,
      "outputs": [
        {
          "output_type": "stream",
          "name": "stdout",
          "text": [
            "[1, 1, 1, 1, 1]\n",
            "[0, 0, 0, 0, 0]\n"
          ]
        }
      ]
    },
    {
      "cell_type": "code",
      "source": [
        "# I am Concanating  the  two class as labels\n",
        "\n",
        "labels = Aadhaar_card_labels + Non_aadhaar_card_labels\n",
        "\n",
        "print(len(labels))\n",
        "print(labels[0:5])\n",
        "print(labels[-5:])"
      ],
      "metadata": {
        "colab": {
          "base_uri": "https://localhost:8080/"
        },
        "id": "z3tODrpWSPhy",
        "outputId": "f6a482c3-d88b-46bc-f004-ba943ed3d7b1"
      },
      "execution_count": 11,
      "outputs": [
        {
          "output_type": "stream",
          "name": "stdout",
          "text": [
            "10030\n",
            "[1, 1, 1, 1, 1]\n",
            "[0, 0, 0, 0, 0]\n"
          ]
        }
      ]
    },
    {
      "cell_type": "code",
      "source": [
        "# Convert images to numpy arrays\n",
        "\n",
        "Aadhaar_card__path = '/content/Aaadhaar AND Non aadhaar/Aadhaar/'\n",
        "\n",
        "data = []\n",
        "for img_file in Aadhaar_card_files:\n",
        "\n",
        "  image = Image.open(Aadhaar_card__path + img_file)\n",
        "  image = image.resize((128,128))\n",
        "  image = image.convert(\"RGB\")\n",
        "  image = np.array(image)\n",
        "  data.append(image)\n",
        "\n",
        "\n",
        "Non_aadhaar_card_path = '/content/Aaadhaar AND Non aadhaar/Non Aadhaar/'\n",
        "\n",
        "for img_file in Non_aadhaar_card_files:\n",
        "\n",
        "  image = Image.open(Non_aadhaar_card_path + img_file)\n",
        "  image = image.resize((128,128))\n",
        "  image = image.convert(\"RGB\")\n",
        "  image = np.array(image)\n",
        "  data.append(image)"
      ],
      "metadata": {
        "id": "KD1vGK_bSSQV"
      },
      "execution_count": 12,
      "outputs": []
    },
    {
      "cell_type": "code",
      "source": [
        "# Coverting image list and the label list to numpy arrays\n",
        "\n",
        "X = np.array(data)\n",
        "Y = np.array(labels)"
      ],
      "metadata": {
        "id": "CiuF5jiPSp4W"
      },
      "execution_count": 13,
      "outputs": []
    },
    {
      "cell_type": "code",
      "source": [
        "type(X)"
      ],
      "metadata": {
        "colab": {
          "base_uri": "https://localhost:8080/"
        },
        "id": "irb4mM7kiOwH",
        "outputId": "387e3af9-7249-4ebb-ec2d-3b94b00a388e"
      },
      "execution_count": 14,
      "outputs": [
        {
          "output_type": "execute_result",
          "data": {
            "text/plain": [
              "numpy.ndarray"
            ]
          },
          "metadata": {},
          "execution_count": 14
        }
      ]
    },
    {
      "cell_type": "code",
      "source": [
        "type(Y)"
      ],
      "metadata": {
        "colab": {
          "base_uri": "https://localhost:8080/"
        },
        "id": "x6svNbwjiSx8",
        "outputId": "3061f292-6a4a-4c27-ff12-d582dae5b7e6"
      },
      "execution_count": 15,
      "outputs": [
        {
          "output_type": "execute_result",
          "data": {
            "text/plain": [
              "numpy.ndarray"
            ]
          },
          "metadata": {},
          "execution_count": 15
        }
      ]
    },
    {
      "cell_type": "code",
      "source": [
        "print(X.shape)\n",
        "print(Y.shape)"
      ],
      "metadata": {
        "colab": {
          "base_uri": "https://localhost:8080/"
        },
        "id": "JxF68BZCiYUy",
        "outputId": "50880aee-2f13-4bd9-f527-5fec68f02fde"
      },
      "execution_count": 16,
      "outputs": [
        {
          "output_type": "stream",
          "name": "stdout",
          "text": [
            "(10030, 128, 128, 3)\n",
            "(10030,)\n"
          ]
        }
      ]
    },
    {
      "cell_type": "code",
      "source": [
        "print(Y)"
      ],
      "metadata": {
        "colab": {
          "base_uri": "https://localhost:8080/"
        },
        "id": "jbysP44uikbc",
        "outputId": "91227c25-adab-4619-817a-64ec746a811f"
      },
      "execution_count": 17,
      "outputs": [
        {
          "output_type": "stream",
          "name": "stdout",
          "text": [
            "[1 1 1 ... 0 0 0]\n"
          ]
        }
      ]
    },
    {
      "cell_type": "code",
      "source": [
        "X_train, X_test, Y_train, Y_test = train_test_split(X, Y, test_size=0.2, random_state=2)"
      ],
      "metadata": {
        "id": "vkloQnkgS2I-"
      },
      "execution_count": 18,
      "outputs": []
    },
    {
      "cell_type": "code",
      "source": [
        "#Scaling the data\n",
        "\n",
        "X_train_scaled = X_train/255\n",
        "\n",
        "X_test_scaled = X_test/255"
      ],
      "metadata": {
        "id": "wffuIz4US4As"
      },
      "execution_count": 19,
      "outputs": []
    },
    {
      "cell_type": "code",
      "source": [
        "import tensorflow as tf\n",
        "from tensorflow import keras"
      ],
      "metadata": {
        "id": "uDWg0HAsS9mZ"
      },
      "execution_count": 20,
      "outputs": []
    },
    {
      "cell_type": "code",
      "source": [
        "num_of_classes = 2\n",
        "\n",
        "model = keras.Sequential()\n",
        "\n",
        "model.add(keras.layers.Conv2D(300, kernel_size=(3,3), activation='relu', input_shape=(128,128,3)))\n",
        "model.add(keras.layers.MaxPooling2D(pool_size=(2,2)))\n",
        "\n",
        "model.add(keras.layers.Conv2D(600, kernel_size=(3,3), activation='relu'))\n",
        "model.add(keras.layers.MaxPooling2D(pool_size=(2,2)))\n",
        "\n",
        "model.add(keras.layers.Conv2D(800, kernel_size=(3,3), activation='relu'))\n",
        "model.add(keras.layers.MaxPooling2D(pool_size=(2,2)))\n",
        "\n",
        "model.add(keras.layers.Flatten())\n",
        "\n",
        "model.add(keras.layers.Dense(128, activation='relu'))\n",
        "model.add(keras.layers.Dropout(0.5))\n",
        "\n",
        "model.add(keras.layers.Dense(64, activation='relu'))\n",
        "model.add(keras.layers.Dropout(0.5))\n",
        "\n",
        "model.add(keras.layers.Dense(num_of_classes, activation='sigmoid'))"
      ],
      "metadata": {
        "id": "TQdeQddgTKDy"
      },
      "execution_count": 21,
      "outputs": []
    },
    {
      "cell_type": "code",
      "source": [
        "# Compile the neural network\n",
        "\n",
        "model.compile(optimizer='adam',\n",
        "              loss='sparse_categorical_crossentropy',\n",
        "              metrics=['acc'])"
      ],
      "metadata": {
        "id": "YmvD4hHsTVo6"
      },
      "execution_count": 22,
      "outputs": []
    },
    {
      "cell_type": "code",
      "source": [
        "#traing the neural network\n",
        "history = model.fit(X_train_scaled, Y_train, validation_split=0.2, epochs=10)"
      ],
      "metadata": {
        "id": "VhB4bwkBTeOs",
        "colab": {
          "base_uri": "https://localhost:8080/"
        },
        "outputId": "89586566-19b9-4a75-9ff5-3d089e713ac5"
      },
      "execution_count": 23,
      "outputs": [
        {
          "output_type": "stream",
          "name": "stdout",
          "text": [
            "Epoch 1/10\n",
            "201/201 [==============================] - 76s 278ms/step - loss: 0.5692 - acc: 0.7224 - val_loss: 0.2717 - val_acc: 0.9196\n",
            "Epoch 2/10\n",
            "201/201 [==============================] - 47s 234ms/step - loss: 0.2300 - acc: 0.9209 - val_loss: 0.1163 - val_acc: 0.9763\n",
            "Epoch 3/10\n",
            "201/201 [==============================] - 49s 246ms/step - loss: 0.1324 - acc: 0.9581 - val_loss: 0.1184 - val_acc: 0.9826\n",
            "Epoch 4/10\n",
            "201/201 [==============================] - 48s 237ms/step - loss: 0.1031 - acc: 0.9670 - val_loss: 0.1686 - val_acc: 0.9875\n",
            "Epoch 5/10\n",
            "201/201 [==============================] - 48s 237ms/step - loss: 0.0781 - acc: 0.9780 - val_loss: 0.0817 - val_acc: 0.9819\n",
            "Epoch 6/10\n",
            "201/201 [==============================] - 49s 245ms/step - loss: 0.0693 - acc: 0.9776 - val_loss: 0.0604 - val_acc: 0.9863\n",
            "Epoch 7/10\n",
            "201/201 [==============================] - 48s 237ms/step - loss: 0.0498 - acc: 0.9824 - val_loss: 0.0673 - val_acc: 0.9907\n",
            "Epoch 8/10\n",
            "201/201 [==============================] - 49s 245ms/step - loss: 0.0598 - acc: 0.9822 - val_loss: 0.1469 - val_acc: 0.9944\n",
            "Epoch 9/10\n",
            "201/201 [==============================] - 48s 237ms/step - loss: 0.0344 - acc: 0.9893 - val_loss: 0.1625 - val_acc: 0.9907\n",
            "Epoch 10/10\n",
            "201/201 [==============================] - 49s 245ms/step - loss: 0.0358 - acc: 0.9894 - val_loss: 0.2104 - val_acc: 0.9931\n"
          ]
        }
      ]
    },
    {
      "cell_type": "code",
      "source": [
        "loss, accuracy = model.evaluate(X_test_scaled, Y_test)\n",
        "print('Test Accuracy=', accuracy)"
      ],
      "metadata": {
        "colab": {
          "base_uri": "https://localhost:8080/"
        },
        "id": "IK3QlnGdqAvj",
        "outputId": "1381c47b-8f2b-4c84-ff1e-b61f8acd4944"
      },
      "execution_count": 24,
      "outputs": [
        {
          "output_type": "stream",
          "name": "stdout",
          "text": [
            "63/63 [==============================] - 7s 110ms/step - loss: 0.1724 - acc: 0.9925\n",
            "Test Accuracy= 0.9925224184989929\n"
          ]
        }
      ]
    },
    {
      "cell_type": "code",
      "source": [
        "h = history\n",
        "\n",
        "#plot the loss value\n",
        "plt.plot(h.history['loss'], label='train loss')\n",
        "plt.plot(h.history['val_loss'], label='validation loss')\n",
        "plt.legend()\n",
        "plt.show()\n",
        "\n",
        "#plot the accuracy value\n",
        "plt.plot(h.history['acc'], label='train accuracy')\n",
        "plt.plot(h.history['val_acc'], label='validation accuracy')\n",
        "plt.legend()\n",
        "plt.show()"
      ],
      "metadata": {
        "colab": {
          "base_uri": "https://localhost:8080/",
          "height": 843
        },
        "id": "hy_TqZySqB65",
        "outputId": "a65453fb-091e-4b91-a98c-57db34e22aeb"
      },
      "execution_count": 25,
      "outputs": [
        {
          "output_type": "display_data",
          "data": {
            "text/plain": [
              "<Figure size 640x480 with 1 Axes>"
            ],
            "image/png": "[encoded data removed]"
          },
          "metadata": {}
        },
        {
          "output_type": "display_data",
          "data": {
            "text/plain": [
              "<Figure size 640x480 with 1 Axes>"
            ],
            "image/png": "[encoded data removed]"
          },
          "metadata": {}
        }
      ]
    },
    {
      "cell_type": "code",
      "source": [
        "input_image_path = input('Path of the image to be predicted: ')\n",
        "\n",
        "input_image = cv2.imread(input_image_path)\n",
        "\n",
        "cv2_imshow(input_image)\n",
        "\n",
        "input_image_resized = cv2.resize(input_image, (128, 128))\n",
        "\n",
        "input_image_scaled = input_image_resized/255\n",
        "\n",
        "input_image_reshaped = np.reshape(input_image_scaled, [1,128,128,3])\n",
        "\n",
        "input_prediction = model.predict(input_image_reshaped)\n",
        "\n",
        "print(input_prediction)\n",
        "\n",
        "input_pred_label = np.argmax(input_prediction)\n",
        "\n",
        "print(input_pred_label)\n",
        "\n",
        "if input_pred_label == 1:\n",
        "\n",
        "  print('This is an aadhaar card')\n",
        "\n",
        "else:\n",
        "\n",
        "  print('This not an aadhaar card')\n"
      ],
      "metadata": {
        "id": "ZLgcicKtqcKA"
      },
      "execution_count": null,
      "outputs": []
    },
    {
      "cell_type": "code",
      "source": [
        "# Save the trained model to a file\n",
        "model.save('AC_model.h5')"
      ],
      "metadata": {
        "id": "HkluCBF9n82t",
        "outputId": "067ef7da-54e1-4e05-8231-1550e7463257",
        "colab": {
          "base_uri": "https://localhost:8080/"
        }
      },
      "execution_count": 35,
      "outputs": [
        {
          "output_type": "stream",
          "name": "stderr",
          "text": [
            "/usr/local/lib/python3.10/dist-packages/keras/src/engine/training.py:3103: UserWarning: You are saving your model as an HDF5 file via `model.save()`. This file format is considered legacy. We recommend using instead the native Keras format, e.g. `model.save('my_model.keras')`.\n",
            "  saving_api.save_model(\n"
          ]
        }
      ]
    }
  ],
  "metadata": {
    "accelerator": "GPU",
    "colab": {
      "provenance": []
    },
    "kernelspec": {
      "display_name": "Python 3",
      "name": "python3"
    },
    "language_info": {
      "name": "python"
    }
  },
  "nbformat": 4,
  "nbformat_minor": 0
}

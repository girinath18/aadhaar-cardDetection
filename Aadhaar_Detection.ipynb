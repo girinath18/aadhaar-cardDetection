{
  "cells": [
    {
      "cell_type": "markdown",
      "metadata": {
        "id": "view-in-github",
        "colab_type": "text"
      },
      "source": [
        "<a href=\"https://colab.research.google.com/github/girinath18/aadhaar-cardDetection/blob/master/Aadhaar_Detection.ipynb\" target=\"_parent\"><img src=\"https://colab.research.google.com/assets/colab-badge.svg\" alt=\"Open In Colab\"/></a>"
      ]
    },
    {
      "cell_type": "code",
      "execution_count": 1,
      "metadata": {
        "colab": {
          "base_uri": "https://localhost:8080/"
        },
        "id": "cltEHUD4Y4hz",
        "outputId": "936b0dbb-82b9-4f14-9cd0-8fcbf59f97fe"
      },
      "outputs": [
        {
          "output_type": "stream",
          "name": "stdout",
          "text": [
            "Requirement already satisfied: kaggle in /usr/local/lib/python3.10/dist-packages (1.6.14)\n",
            "Requirement already satisfied: six>=1.10 in /usr/local/lib/python3.10/dist-packages (from kaggle) (1.16.0)\n",
            "Requirement already satisfied: certifi>=2023.7.22 in /usr/local/lib/python3.10/dist-packages (from kaggle) (2024.2.2)\n",
            "Requirement already satisfied: python-dateutil in /usr/local/lib/python3.10/dist-packages (from kaggle) (2.8.2)\n",
            "Requirement already satisfied: requests in /usr/local/lib/python3.10/dist-packages (from kaggle) (2.31.0)\n",
            "Requirement already satisfied: tqdm in /usr/local/lib/python3.10/dist-packages (from kaggle) (4.66.4)\n",
            "Requirement already satisfied: python-slugify in /usr/local/lib/python3.10/dist-packages (from kaggle) (8.0.4)\n",
            "Requirement already satisfied: urllib3 in /usr/local/lib/python3.10/dist-packages (from kaggle) (2.0.7)\n",
            "Requirement already satisfied: bleach in /usr/local/lib/python3.10/dist-packages (from kaggle) (6.1.0)\n",
            "Requirement already satisfied: webencodings in /usr/local/lib/python3.10/dist-packages (from bleach->kaggle) (0.5.1)\n",
            "Requirement already satisfied: text-unidecode>=1.3 in /usr/local/lib/python3.10/dist-packages (from python-slugify->kaggle) (1.3)\n",
            "Requirement already satisfied: charset-normalizer<4,>=2 in /usr/local/lib/python3.10/dist-packages (from requests->kaggle) (3.3.2)\n",
            "Requirement already satisfied: idna<4,>=2.5 in /usr/local/lib/python3.10/dist-packages (from requests->kaggle) (3.7)\n"
          ]
        }
      ],
      "source": [
        "!pip install kaggle"
      ]
    },
    {
      "cell_type": "code",
      "execution_count": 2,
      "metadata": {
        "id": "4cNOMwNlY51i"
      },
      "outputs": [],
      "source": [
        "#configurating the path of kaggle.json file\n",
        "!mkdir -p ~/.kaggle\n",
        "!cp kaggle.json ~/.kaggle/\n",
        "!chmod 600 ~/.kaggle/kaggle.json"
      ]
    },
    {
      "cell_type": "code",
      "execution_count": 3,
      "metadata": {
        "colab": {
          "base_uri": "https://localhost:8080/"
        },
        "id": "r97aFlSvY6PK",
        "outputId": "54eb69fc-9999-48aa-b7e0-8c10409dbf82"
      },
      "outputs": [
        {
          "output_type": "stream",
          "name": "stdout",
          "text": [
            "Dataset URL: https://www.kaggle.com/datasets/girinathrs211555/aadhaar-datasets\n",
            "License(s): unknown\n",
            "aadhaar-datasets.zip: Skipping, found more recently modified local copy (use --force to force download)\n"
          ]
        }
      ],
      "source": [
        "!kaggle datasets download -d girinathrs211555/aadhaar-datasets"
      ]
    },
    {
      "cell_type": "code",
      "execution_count": 4,
      "metadata": {
        "colab": {
          "base_uri": "https://localhost:8080/"
        },
        "id": "ldpGjSwRZFmR",
        "outputId": "8c428158-602c-491d-8837-b60195617400"
      },
      "outputs": [
        {
          "output_type": "stream",
          "name": "stdout",
          "text": [
            "The dataset is extracted\n"
          ]
        }
      ],
      "source": [
        "# extrcing the compossed Dataset\n",
        "from zipfile import ZipFile\n",
        "dataset = '/content/aadhaar-datasets.zip'\n",
        "\n",
        "with ZipFile(dataset,'r') as zip:\n",
        "  zip.extractall()\n",
        "  print('The dataset is extracted')"
      ]
    },
    {
      "cell_type": "code",
      "source": [
        "import os\n",
        "import numpy as np\n",
        "import matplotlib.pyplot as plt\n",
        "import matplotlib.image as mpimg\n",
        "import cv2\n",
        "from google.colab.patches import cv2_imshow\n",
        "from PIL import Image\n",
        "from sklearn.model_selection import train_test_split"
      ],
      "metadata": {
        "id": "ulSyBHAizKGj"
      },
      "execution_count": 5,
      "outputs": []
    },
    {
      "cell_type": "code",
      "execution_count": 6,
      "metadata": {
        "id": "5i2eLSE1RyDF",
        "colab": {
          "base_uri": "https://localhost:8080/"
        },
        "outputId": "30971968-e13e-4afd-c747-e33f95d4f0be"
      },
      "outputs": [
        {
          "output_type": "stream",
          "name": "stdout",
          "text": [
            "['BATS (272).png', 'BATS (62).jpeg', 'BATS (360).png', 'BATS (401).jpg', 'BATS (200).png']\n",
            "['BATS (207).png', 'BATS (689).png', 'BATS (670).png', 'BATS (240).jpg', 'BATS (517).png']\n"
          ]
        }
      ],
      "source": [
        "Aadhaar_card_files = os.listdir('/content/AADHAAR_CARD_DETECTION/Aadhaar_card')\n",
        "print(Aadhaar_card_files[0:5])\n",
        "\n",
        "print(Aadhaar_card_files[-5:])"
      ]
    },
    {
      "cell_type": "code",
      "execution_count": 7,
      "metadata": {
        "id": "mYsM2XyJR5Ht",
        "colab": {
          "base_uri": "https://localhost:8080/"
        },
        "outputId": "7aefd01e-4407-4829-e46a-bf57ad08946b"
      },
      "outputs": [
        {
          "output_type": "stream",
          "name": "stdout",
          "text": [
            "['JOKES (312).jpeg', 'JOKES (210).jpeg', 'JOKES (371).jpeg', 'JOKES (794).jpeg', 'JOKES (59).jpeg']\n",
            "['JOKES (586).jpeg', 'JOKES (88).jpeg', 'JOKES (398).jpeg', 'JOKES (652).jpeg', 'JOKES (439).jpg']\n"
          ]
        }
      ],
      "source": [
        "Non_aadhaar_card_files = os.listdir('/content/AADHAAR_CARD_DETECTION/Not_Aadhaar_card')\n",
        "print(Non_aadhaar_card_files[0:5])\n",
        "\n",
        "print(Non_aadhaar_card_files[-5:])"
      ]
    },
    {
      "cell_type": "code",
      "execution_count": 8,
      "metadata": {
        "id": "3hX6uT4aiwve",
        "colab": {
          "base_uri": "https://localhost:8080/"
        },
        "outputId": "a424623e-ab36-413e-cdf2-ab5025b37165"
      },
      "outputs": [
        {
          "output_type": "stream",
          "name": "stdout",
          "text": [
            "Number of with Aadhaar_card_files: 1500\n",
            "Number of without Non_aadhaar_card_files: 1500\n"
          ]
        }
      ],
      "source": [
        "print('Number of with Aadhaar_card_files:', len(Aadhaar_card_files))\n",
        "print('Number of without Non_aadhaar_card_files:', len(Non_aadhaar_card_files))"
      ]
    },
    {
      "cell_type": "code",
      "execution_count": 9,
      "metadata": {
        "id": "TS8X04UKSCmr"
      },
      "outputs": [],
      "source": [
        "#create the labels\n",
        "\n",
        "Aadhaar_card_labels = [1]*1500\n",
        "\n",
        "Non_aadhaar_card_labels = [0]*1500"
      ]
    },
    {
      "cell_type": "code",
      "execution_count": 10,
      "metadata": {
        "id": "NRQUhij6SHz8",
        "colab": {
          "base_uri": "https://localhost:8080/"
        },
        "outputId": "c26c5d82-2fe5-4cf5-9d85-aa1456a23e59"
      },
      "outputs": [
        {
          "output_type": "stream",
          "name": "stdout",
          "text": [
            "[1, 1, 1, 1, 1]\n",
            "[0, 0, 0, 0, 0]\n"
          ]
        }
      ],
      "source": [
        "# Checking wheather the labels are created as expected\n",
        "print(Aadhaar_card_labels[0:5])\n",
        "\n",
        "print(Non_aadhaar_card_labels[0:5])"
      ]
    },
    {
      "cell_type": "code",
      "execution_count": 11,
      "metadata": {
        "id": "z3tODrpWSPhy",
        "colab": {
          "base_uri": "https://localhost:8080/"
        },
        "outputId": "db946f0e-75fe-4bef-cea3-ea73ebcd2e7d"
      },
      "outputs": [
        {
          "output_type": "stream",
          "name": "stdout",
          "text": [
            "3000\n",
            "[1, 1, 1, 1, 1]\n",
            "[0, 0, 0, 0, 0]\n"
          ]
        }
      ],
      "source": [
        "# I am Concanating  the  two class as labels\n",
        "\n",
        "labels = Aadhaar_card_labels + Non_aadhaar_card_labels\n",
        "\n",
        "print(len(labels))\n",
        "print(labels[0:5])\n",
        "print(labels[-5:])"
      ]
    },
    {
      "cell_type": "code",
      "execution_count": 12,
      "metadata": {
        "id": "KD1vGK_bSSQV"
      },
      "outputs": [],
      "source": [
        "# Convert images to numpy arrays\n",
        "\n",
        "Aadhaar_card__path = '/content/AADHAAR_CARD_DETECTION/Aadhaar_card/'\n",
        "\n",
        "data = []\n",
        "for img_file in Aadhaar_card_files:\n",
        "\n",
        "  image = Image.open(Aadhaar_card__path + img_file)\n",
        "  image = image.resize((128,128))\n",
        "  image = image.convert(\"RGB\")\n",
        "  image = np.array(image)\n",
        "  data.append(image)\n",
        "\n",
        "Non_aadhaar_card_path = '/content/AADHAAR_CARD_DETECTION/Not_Aadhaar_card/'\n",
        "\n",
        "for img_file in Non_aadhaar_card_files:\n",
        "\n",
        "  image = Image.open(Non_aadhaar_card_path + img_file)\n",
        "  image = image.resize((128,128))\n",
        "  image = image.convert(\"RGB\")\n",
        "  image = np.array(image)\n",
        "  data.append(image)"
      ]
    },
    {
      "cell_type": "code",
      "execution_count": 13,
      "metadata": {
        "id": "CiuF5jiPSp4W"
      },
      "outputs": [],
      "source": [
        "# Coverting image list and the label list to numpy arrays\n",
        "\n",
        "X = np.array(data)\n",
        "Y = np.array(labels)"
      ]
    },
    {
      "cell_type": "code",
      "execution_count": 14,
      "metadata": {
        "id": "irb4mM7kiOwH",
        "colab": {
          "base_uri": "https://localhost:8080/"
        },
        "outputId": "ad42e033-ba7b-4847-912e-525774bc5328"
      },
      "outputs": [
        {
          "output_type": "execute_result",
          "data": {
            "text/plain": [
              "numpy.ndarray"
            ]
          },
          "metadata": {},
          "execution_count": 14
        }
      ],
      "source": [
        "type(X)"
      ]
    },
    {
      "cell_type": "code",
      "execution_count": 15,
      "metadata": {
        "id": "x6svNbwjiSx8",
        "colab": {
          "base_uri": "https://localhost:8080/"
        },
        "outputId": "8bbc44a4-10a3-455a-b76d-660ce761dcbd"
      },
      "outputs": [
        {
          "output_type": "execute_result",
          "data": {
            "text/plain": [
              "numpy.ndarray"
            ]
          },
          "metadata": {},
          "execution_count": 15
        }
      ],
      "source": [
        "type(Y)"
      ]
    },
    {
      "cell_type": "code",
      "execution_count": 16,
      "metadata": {
        "id": "JxF68BZCiYUy",
        "colab": {
          "base_uri": "https://localhost:8080/"
        },
        "outputId": "55501648-060f-4c28-8e97-00ba0104d4aa"
      },
      "outputs": [
        {
          "output_type": "stream",
          "name": "stdout",
          "text": [
            "(3000, 128, 128, 3)\n",
            "(3000,)\n"
          ]
        }
      ],
      "source": [
        "print(X.shape)\n",
        "print(Y.shape)"
      ]
    },
    {
      "cell_type": "code",
      "execution_count": 17,
      "metadata": {
        "id": "jbysP44uikbc",
        "colab": {
          "base_uri": "https://localhost:8080/"
        },
        "outputId": "1e5fb7dc-f2c7-4629-87f3-4a44da56a5af"
      },
      "outputs": [
        {
          "output_type": "stream",
          "name": "stdout",
          "text": [
            "[1 1 1 ... 0 0 0]\n"
          ]
        }
      ],
      "source": [
        "print(Y)"
      ]
    },
    {
      "cell_type": "code",
      "execution_count": 18,
      "metadata": {
        "id": "vkloQnkgS2I-"
      },
      "outputs": [],
      "source": [
        "X_train, X_test, Y_train, Y_test = train_test_split(X, Y, test_size=0.2, random_state=2)"
      ]
    },
    {
      "cell_type": "code",
      "execution_count": 19,
      "metadata": {
        "id": "wffuIz4US4As"
      },
      "outputs": [],
      "source": [
        "#Scaling the data\n",
        "\n",
        "X_train_scaled = X_train/255\n",
        "\n",
        "X_test_scaled = X_test/255"
      ]
    },
    {
      "cell_type": "code",
      "execution_count": 20,
      "metadata": {
        "id": "uDWg0HAsS9mZ"
      },
      "outputs": [],
      "source": [
        "import tensorflow as tf\n",
        "from tensorflow import keras"
      ]
    },
    {
      "cell_type": "code",
      "execution_count": 21,
      "metadata": {
        "id": "TQdeQddgTKDy"
      },
      "outputs": [],
      "source": [
        "import tensorflow as tf\n",
        "from tensorflow import keras\n",
        "\n",
        "num_of_classes = 2\n",
        "\n",
        "model = keras.Sequential()\n",
        "\n",
        "model.add(keras.layers.Conv2D(300, kernel_size=(3,3), activation='relu', input_shape=(128,128,3)))\n",
        "model.add(keras.layers.MaxPooling2D(pool_size=(2,2)))\n",
        "\n",
        "model.add(keras.layers.Conv2D(600, kernel_size=(3,3), activation='relu'))\n",
        "model.add(keras.layers.MaxPooling2D(pool_size=(2,2)))\n",
        "\n",
        "model.add(keras.layers.Conv2D(800, kernel_size=(3,3), activation='relu'))\n",
        "model.add(keras.layers.MaxPooling2D(pool_size=(2,2)))\n",
        "\n",
        "model.add(keras.layers.Flatten())\n",
        "\n",
        "model.add(keras.layers.Dense(128, activation='relu'))\n",
        "model.add(keras.layers.Dropout(0.5))\n",
        "\n",
        "model.add(keras.layers.Dense(64, activation='relu'))\n",
        "model.add(keras.layers.Dropout(0.5))\n",
        "\n",
        "model.add(keras.layers.Dense(num_of_classes, activation='sigmoid'))"
      ]
    },
    {
      "cell_type": "code",
      "execution_count": 22,
      "metadata": {
        "id": "YmvD4hHsTVo6"
      },
      "outputs": [],
      "source": [
        "# Compile the model\n",
        "model.compile(optimizer='adam', loss='sparse_categorical_crossentropy', metrics=['acc'])"
      ]
    },
    {
      "cell_type": "code",
      "execution_count": 23,
      "metadata": {
        "id": "VhB4bwkBTeOs",
        "colab": {
          "base_uri": "https://localhost:8080/"
        },
        "outputId": "909d51f9-6946-4a5a-9ce3-ec3e267d6a45"
      },
      "outputs": [
        {
          "output_type": "stream",
          "name": "stdout",
          "text": [
            "Epoch 1/50\n",
            "60/60 [==============================] - 34s 250ms/step - loss: 0.7956 - acc: 0.6146 - val_loss: 0.4503 - val_acc: 0.8062\n",
            "Epoch 2/50\n",
            "60/60 [==============================] - 14s 242ms/step - loss: 0.5407 - acc: 0.7109 - val_loss: 0.2945 - val_acc: 0.8146\n",
            "Epoch 3/50\n",
            "60/60 [==============================] - 15s 250ms/step - loss: 0.1298 - acc: 0.9448 - val_loss: 0.0021 - val_acc: 1.0000\n",
            "Epoch 4/50\n",
            "60/60 [==============================] - 15s 251ms/step - loss: 0.0216 - acc: 0.9927 - val_loss: 1.8565e-05 - val_acc: 1.0000\n",
            "Epoch 5/50\n",
            "60/60 [==============================] - 14s 241ms/step - loss: 0.0426 - acc: 0.9937 - val_loss: 0.4190 - val_acc: 0.9104\n",
            "Epoch 6/50\n",
            "60/60 [==============================] - 14s 240ms/step - loss: 0.1377 - acc: 0.9719 - val_loss: 0.0021 - val_acc: 1.0000\n",
            "Epoch 7/50\n",
            "60/60 [==============================] - 15s 244ms/step - loss: 0.0286 - acc: 0.9917 - val_loss: 2.1358e-08 - val_acc: 1.0000\n",
            "Epoch 8/50\n",
            "60/60 [==============================] - 15s 245ms/step - loss: 0.0937 - acc: 0.9755 - val_loss: 4.1227e-08 - val_acc: 1.0000\n",
            "Epoch 9/50\n",
            "60/60 [==============================] - 15s 247ms/step - loss: 0.0193 - acc: 0.9932 - val_loss: 0.0016 - val_acc: 1.0000\n",
            "Epoch 10/50\n",
            "60/60 [==============================] - 15s 242ms/step - loss: 0.0299 - acc: 0.9958 - val_loss: 0.0000e+00 - val_acc: 1.0000\n",
            "Epoch 11/50\n",
            "60/60 [==============================] - 15s 243ms/step - loss: 0.1104 - acc: 0.9943 - val_loss: 0.0000e+00 - val_acc: 1.0000\n",
            "Epoch 12/50\n",
            "60/60 [==============================] - 14s 238ms/step - loss: 0.0705 - acc: 0.9927 - val_loss: 0.0000e+00 - val_acc: 1.0000\n",
            "Epoch 13/50\n",
            "60/60 [==============================] - 15s 242ms/step - loss: 0.0061 - acc: 0.9990 - val_loss: 6.1095e-08 - val_acc: 1.0000\n",
            "Epoch 14/50\n",
            "60/60 [==============================] - 14s 242ms/step - loss: 0.0140 - acc: 0.9995 - val_loss: 0.0000e+00 - val_acc: 1.0000\n",
            "Epoch 15/50\n",
            "60/60 [==============================] - 14s 241ms/step - loss: 5.4660e-04 - acc: 0.9995 - val_loss: 0.0000e+00 - val_acc: 1.0000\n",
            "Epoch 16/50\n",
            "60/60 [==============================] - 14s 241ms/step - loss: 0.0390 - acc: 0.9990 - val_loss: 0.0000e+00 - val_acc: 1.0000\n",
            "Epoch 17/50\n",
            "60/60 [==============================] - 14s 242ms/step - loss: 0.0102 - acc: 0.9984 - val_loss: 0.0000e+00 - val_acc: 1.0000\n",
            "Epoch 18/50\n",
            "60/60 [==============================] - 14s 242ms/step - loss: 0.0202 - acc: 0.9990 - val_loss: 0.0000e+00 - val_acc: 1.0000\n",
            "Epoch 19/50\n",
            "60/60 [==============================] - 14s 238ms/step - loss: 6.4758e-04 - acc: 0.9995 - val_loss: 0.0000e+00 - val_acc: 1.0000\n",
            "Epoch 20/50\n",
            "60/60 [==============================] - 14s 238ms/step - loss: 3.8409e-07 - acc: 1.0000 - val_loss: 0.0000e+00 - val_acc: 1.0000\n",
            "Epoch 21/50\n",
            "60/60 [==============================] - 14s 237ms/step - loss: 2.6343e-05 - acc: 1.0000 - val_loss: 0.0000e+00 - val_acc: 1.0000\n",
            "Epoch 22/50\n",
            "60/60 [==============================] - 14s 241ms/step - loss: 0.0027 - acc: 0.9995 - val_loss: 0.0000e+00 - val_acc: 1.0000\n",
            "Epoch 23/50\n",
            "60/60 [==============================] - 14s 240ms/step - loss: 0.0632 - acc: 0.9984 - val_loss: 2.3668e-06 - val_acc: 1.0000\n",
            "Epoch 24/50\n",
            "60/60 [==============================] - 14s 238ms/step - loss: 0.0214 - acc: 0.9984 - val_loss: 0.0000e+00 - val_acc: 1.0000\n",
            "Epoch 25/50\n",
            "60/60 [==============================] - 14s 241ms/step - loss: 0.0021 - acc: 0.9995 - val_loss: 0.0000e+00 - val_acc: 1.0000\n",
            "Epoch 26/50\n",
            "60/60 [==============================] - 14s 240ms/step - loss: 0.0091 - acc: 0.9995 - val_loss: 0.0000e+00 - val_acc: 1.0000\n",
            "Epoch 27/50\n",
            "60/60 [==============================] - 14s 242ms/step - loss: 0.4049 - acc: 0.9635 - val_loss: 0.0034 - val_acc: 1.0000\n",
            "Epoch 28/50\n",
            "60/60 [==============================] - 15s 244ms/step - loss: 0.1503 - acc: 0.9812 - val_loss: 5.7255e-04 - val_acc: 1.0000\n",
            "Epoch 29/50\n",
            "60/60 [==============================] - 14s 239ms/step - loss: 0.0023 - acc: 1.0000 - val_loss: 0.0000e+00 - val_acc: 1.0000\n",
            "Epoch 30/50\n",
            "60/60 [==============================] - 15s 243ms/step - loss: 7.1829e-05 - acc: 1.0000 - val_loss: 0.0000e+00 - val_acc: 1.0000\n",
            "Epoch 31/50\n",
            "60/60 [==============================] - 14s 238ms/step - loss: 0.0075 - acc: 0.9990 - val_loss: 5.9605e-09 - val_acc: 1.0000\n",
            "Epoch 32/50\n",
            "60/60 [==============================] - 14s 238ms/step - loss: 0.0038 - acc: 0.9990 - val_loss: 0.0000e+00 - val_acc: 1.0000\n",
            "Epoch 33/50\n",
            "60/60 [==============================] - 15s 243ms/step - loss: 7.8834e-05 - acc: 1.0000 - val_loss: 0.0000e+00 - val_acc: 1.0000\n",
            "Epoch 34/50\n",
            "60/60 [==============================] - 14s 239ms/step - loss: 1.5631e-04 - acc: 1.0000 - val_loss: 0.0000e+00 - val_acc: 1.0000\n",
            "Epoch 35/50\n",
            "60/60 [==============================] - 14s 238ms/step - loss: 8.3726e-04 - acc: 1.0000 - val_loss: 0.0000e+00 - val_acc: 1.0000\n",
            "Epoch 36/50\n",
            "60/60 [==============================] - 15s 243ms/step - loss: 9.9010e-05 - acc: 1.0000 - val_loss: 8.9407e-09 - val_acc: 1.0000\n",
            "Epoch 37/50\n",
            "60/60 [==============================] - 14s 239ms/step - loss: 1.7658e-04 - acc: 1.0000 - val_loss: 0.0000e+00 - val_acc: 1.0000\n",
            "Epoch 38/50\n",
            "60/60 [==============================] - 14s 238ms/step - loss: 1.9437e-04 - acc: 1.0000 - val_loss: 0.0000e+00 - val_acc: 1.0000\n",
            "Epoch 39/50\n",
            "60/60 [==============================] - 14s 238ms/step - loss: 0.0013 - acc: 0.9995 - val_loss: 0.0000e+00 - val_acc: 1.0000\n",
            "Epoch 40/50\n",
            "60/60 [==============================] - 14s 238ms/step - loss: 6.2656e-05 - acc: 1.0000 - val_loss: 0.0000e+00 - val_acc: 1.0000\n",
            "Epoch 41/50\n",
            "60/60 [==============================] - 14s 238ms/step - loss: 0.0038 - acc: 0.9995 - val_loss: 1.0679e-08 - val_acc: 1.0000\n",
            "Epoch 42/50\n",
            "60/60 [==============================] - 14s 237ms/step - loss: 0.0110 - acc: 0.9964 - val_loss: 0.0000e+00 - val_acc: 1.0000\n",
            "Epoch 43/50\n",
            "60/60 [==============================] - 14s 237ms/step - loss: 5.2929e-05 - acc: 1.0000 - val_loss: 0.0000e+00 - val_acc: 1.0000\n",
            "Epoch 44/50\n",
            "60/60 [==============================] - 14s 236ms/step - loss: 1.1346e-04 - acc: 1.0000 - val_loss: 0.0000e+00 - val_acc: 1.0000\n",
            "Epoch 45/50\n",
            "60/60 [==============================] - 14s 236ms/step - loss: 3.1940e-06 - acc: 1.0000 - val_loss: 0.0000e+00 - val_acc: 1.0000\n",
            "Epoch 46/50\n",
            "60/60 [==============================] - 14s 236ms/step - loss: 2.8729e-05 - acc: 1.0000 - val_loss: 0.0000e+00 - val_acc: 1.0000\n",
            "Epoch 47/50\n",
            "60/60 [==============================] - 14s 240ms/step - loss: 4.8753e-05 - acc: 1.0000 - val_loss: 0.0000e+00 - val_acc: 1.0000\n",
            "Epoch 48/50\n",
            "60/60 [==============================] - 14s 240ms/step - loss: 2.1646e-04 - acc: 1.0000 - val_loss: 0.0000e+00 - val_acc: 1.0000\n",
            "Epoch 49/50\n",
            "60/60 [==============================] - 14s 241ms/step - loss: 1.7147e-04 - acc: 1.0000 - val_loss: 0.0000e+00 - val_acc: 1.0000\n",
            "Epoch 50/50\n",
            "60/60 [==============================] - 14s 237ms/step - loss: 1.0180e-05 - acc: 1.0000 - val_loss: 0.0000e+00 - val_acc: 1.0000\n"
          ]
        }
      ],
      "source": [
        "# Train the model with early stopping\n",
        "early_stopping = keras.callbacks.EarlyStopping(monitor='val_loss', patience=3, restore_best_weights=True)\n",
        "history = model.fit(X_train_scaled, Y_train, validation_split=0.2, epochs=50)\n"
      ]
    },
    {
      "cell_type": "code",
      "execution_count": 24,
      "metadata": {
        "id": "zfavzuhamCTr"
      },
      "outputs": [],
      "source": [
        "# Adjust the learning rate\n",
        "adam_optimizer = keras.optimizers.Adam(learning_rate=0.0001)"
      ]
    },
    {
      "cell_type": "code",
      "execution_count": 25,
      "metadata": {
        "id": "IK3QlnGdqAvj",
        "colab": {
          "base_uri": "https://localhost:8080/"
        },
        "outputId": "ebd2d5c5-6fcf-4e67-dde0-feb4248ee4ca"
      },
      "outputs": [
        {
          "output_type": "stream",
          "name": "stdout",
          "text": [
            "19/19 [==============================] - 4s 229ms/step - loss: 0.0000e+00 - acc: 1.0000\n",
            "Test Accuracy= 1.0\n"
          ]
        }
      ],
      "source": [
        "# Evaluate the model\n",
        "loss, accuracy = model.evaluate(X_test_scaled, Y_test)\n",
        "print('Test Accuracy=', accuracy)"
      ]
    },
    {
      "cell_type": "code",
      "execution_count": 26,
      "metadata": {
        "id": "hy_TqZySqB65",
        "colab": {
          "base_uri": "https://localhost:8080/",
          "height": 843
        },
        "outputId": "f33b9979-a187-4c84-a67a-90ec7bcb2465"
      },
      "outputs": [
        {
          "output_type": "display_data",
          "data": {
            "text/plain": [
              "<Figure size 640x480 with 1 Axes>"
            ],
            "image/png": "[encoded data removed]"
          },
          "metadata": {}
        },
        {
          "output_type": "display_data",
          "data": {
            "text/plain": [
              "<Figure size 640x480 with 1 Axes>"
            ],
            "image/png": "[encoded data removed]"
          },
          "metadata": {}
        }
      ],
      "source": [
        "# Plot the training history\n",
        "plt.plot(history.history['loss'], label='train loss')\n",
        "plt.plot(history.history['val_loss'], label='validation loss')\n",
        "plt.legend()\n",
        "plt.show()\n",
        "\n",
        "plt.plot(history.history['acc'], label='train accuracy')\n",
        "plt.plot(history.history['val_acc'], label='validation accuracy')\n",
        "plt.legend()\n",
        "plt.show()"
      ]
    },
    {
      "cell_type": "code",
      "execution_count": 27,
      "metadata": {
        "id": "ZLgcicKtqcKA",
        "outputId": "bc2f61ef-d7e2-45c8-a542-39e8e7c64d0b",
        "colab": {
          "base_uri": "https://localhost:8080/",
          "height": 356
        }
      },
      "outputs": [
        {
          "output_type": "error",
          "ename": "KeyboardInterrupt",
          "evalue": "Interrupted by user",
          "traceback": [
            "\u001b[0;31m---------------------------------------------------------------------------\u001b[0m",
            "\u001b[0;31mKeyboardInterrupt\u001b[0m                         Traceback (most recent call last)",
            "\u001b[0;32m<ipython-input-27-b196f03785d1>\u001b[0m in \u001b[0;36m<cell line: 1>\u001b[0;34m()\u001b[0m\n\u001b[0;32m----> 1\u001b[0;31m \u001b[0minput_image_path\u001b[0m \u001b[0;34m=\u001b[0m \u001b[0minput\u001b[0m\u001b[0;34m(\u001b[0m\u001b[0;34m'Path of the image to be predicted: '\u001b[0m\u001b[0;34m)\u001b[0m\u001b[0;34m\u001b[0m\u001b[0;34m\u001b[0m\u001b[0m\n\u001b[0m\u001b[1;32m      2\u001b[0m \u001b[0;34m\u001b[0m\u001b[0m\n\u001b[1;32m      3\u001b[0m \u001b[0minput_image\u001b[0m \u001b[0;34m=\u001b[0m \u001b[0mcv2\u001b[0m\u001b[0;34m.\u001b[0m\u001b[0mimread\u001b[0m\u001b[0;34m(\u001b[0m\u001b[0minput_image_path\u001b[0m\u001b[0;34m)\u001b[0m\u001b[0;34m\u001b[0m\u001b[0;34m\u001b[0m\u001b[0m\n\u001b[1;32m      4\u001b[0m \u001b[0;34m\u001b[0m\u001b[0m\n\u001b[1;32m      5\u001b[0m \u001b[0mcv2_imshow\u001b[0m\u001b[0;34m(\u001b[0m\u001b[0minput_image\u001b[0m\u001b[0;34m)\u001b[0m\u001b[0;34m\u001b[0m\u001b[0;34m\u001b[0m\u001b[0m\n",
            "\u001b[0;32m/usr/local/lib/python3.10/dist-packages/ipykernel/kernelbase.py\u001b[0m in \u001b[0;36mraw_input\u001b[0;34m(self, prompt)\u001b[0m\n\u001b[1;32m    849\u001b[0m                 \u001b[0;34m\"raw_input was called, but this frontend does not support input requests.\"\u001b[0m\u001b[0;34m\u001b[0m\u001b[0;34m\u001b[0m\u001b[0m\n\u001b[1;32m    850\u001b[0m             )\n\u001b[0;32m--> 851\u001b[0;31m         return self._input_request(str(prompt),\n\u001b[0m\u001b[1;32m    852\u001b[0m             \u001b[0mself\u001b[0m\u001b[0;34m.\u001b[0m\u001b[0m_parent_ident\u001b[0m\u001b[0;34m,\u001b[0m\u001b[0;34m\u001b[0m\u001b[0;34m\u001b[0m\u001b[0m\n\u001b[1;32m    853\u001b[0m             \u001b[0mself\u001b[0m\u001b[0;34m.\u001b[0m\u001b[0m_parent_header\u001b[0m\u001b[0;34m,\u001b[0m\u001b[0;34m\u001b[0m\u001b[0;34m\u001b[0m\u001b[0m\n",
            "\u001b[0;32m/usr/local/lib/python3.10/dist-packages/ipykernel/kernelbase.py\u001b[0m in \u001b[0;36m_input_request\u001b[0;34m(self, prompt, ident, parent, password)\u001b[0m\n\u001b[1;32m    893\u001b[0m             \u001b[0;32mexcept\u001b[0m \u001b[0mKeyboardInterrupt\u001b[0m\u001b[0;34m:\u001b[0m\u001b[0;34m\u001b[0m\u001b[0;34m\u001b[0m\u001b[0m\n\u001b[1;32m    894\u001b[0m                 \u001b[0;31m# re-raise KeyboardInterrupt, to truncate traceback\u001b[0m\u001b[0;34m\u001b[0m\u001b[0;34m\u001b[0m\u001b[0m\n\u001b[0;32m--> 895\u001b[0;31m                 \u001b[0;32mraise\u001b[0m \u001b[0mKeyboardInterrupt\u001b[0m\u001b[0;34m(\u001b[0m\u001b[0;34m\"Interrupted by user\"\u001b[0m\u001b[0;34m)\u001b[0m \u001b[0;32mfrom\u001b[0m \u001b[0;32mNone\u001b[0m\u001b[0;34m\u001b[0m\u001b[0;34m\u001b[0m\u001b[0m\n\u001b[0m\u001b[1;32m    896\u001b[0m             \u001b[0;32mexcept\u001b[0m \u001b[0mException\u001b[0m \u001b[0;32mas\u001b[0m \u001b[0me\u001b[0m\u001b[0;34m:\u001b[0m\u001b[0;34m\u001b[0m\u001b[0;34m\u001b[0m\u001b[0m\n\u001b[1;32m    897\u001b[0m                 \u001b[0mself\u001b[0m\u001b[0;34m.\u001b[0m\u001b[0mlog\u001b[0m\u001b[0;34m.\u001b[0m\u001b[0mwarning\u001b[0m\u001b[0;34m(\u001b[0m\u001b[0;34m\"Invalid Message:\"\u001b[0m\u001b[0;34m,\u001b[0m \u001b[0mexc_info\u001b[0m\u001b[0;34m=\u001b[0m\u001b[0;32mTrue\u001b[0m\u001b[0;34m)\u001b[0m\u001b[0;34m\u001b[0m\u001b[0;34m\u001b[0m\u001b[0m\n",
            "\u001b[0;31mKeyboardInterrupt\u001b[0m: Interrupted by user"
          ]
        }
      ],
      "source": [
        "input_image_path = input('Path of the image to be predicted: ')\n",
        "\n",
        "input_image = cv2.imread(input_image_path)\n",
        "\n",
        "cv2_imshow(input_image)\n",
        "\n",
        "input_image_resized = cv2.resize(input_image, (128, 128))\n",
        "\n",
        "input_image_scaled = input_image_resized/255\n",
        "\n",
        "input_image_reshaped = np.reshape(input_image_scaled, [1,128,128,3])\n",
        "\n",
        "input_prediction = model.predict(input_image_reshaped)\n",
        "\n",
        "print(input_prediction)\n",
        "\n",
        "input_pred_label = np.argmax(input_prediction)\n",
        "\n",
        "print(input_pred_label)\n",
        "\n",
        "if input_pred_label == 1:\n",
        "\n",
        "  print('This is an aadhaar card')\n",
        "\n",
        "else:\n",
        "\n",
        "  print('This not an aadhaar card')"
      ]
    },
    {
      "cell_type": "code",
      "execution_count": null,
      "metadata": {
        "id": "sHdTCwxG3oUO"
      },
      "outputs": [],
      "source": [
        "#model.save('Arabic.h5')"
      ]
    }
  ],
  "metadata": {
    "accelerator": "GPU",
    "colab": {
      "gpuType": "T4",
      "provenance": [],
      "include_colab_link": true
    },
    "kernelspec": {
      "display_name": "Python 3",
      "name": "python3"
    },
    "language_info": {
      "name": "python"
    }
  },
  "nbformat": 4,
  "nbformat_minor": 0
}
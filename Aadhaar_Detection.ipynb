{
  "cells": [
    {
      "cell_type": "markdown",
      "metadata": {
        "id": "view-in-github",
        "colab_type": "text"
      },
      "source": [
        "<a href=\"https://colab.research.google.com/github/girinath18/aadhaar-cardDetection/blob/master/Aadhaar_Detection.ipynb\" target=\"_parent\"><img src=\"https://colab.research.google.com/assets/colab-badge.svg\" alt=\"Open In Colab\"/></a>"
      ]
    },
    {
      "cell_type": "code",
      "execution_count": 1,
      "metadata": {
        "colab": {
          "base_uri": "https://localhost:8080/"
        },
        "id": "cltEHUD4Y4hz",
        "outputId": "65000042-b52c-4ab5-b336-7e00bf831b89"
      },
      "outputs": [
        {
          "output_type": "stream",
          "name": "stdout",
          "text": [
            "Requirement already satisfied: kaggle in /usr/local/lib/python3.10/dist-packages (1.6.12)\n",
            "Requirement already satisfied: six>=1.10 in /usr/local/lib/python3.10/dist-packages (from kaggle) (1.16.0)\n",
            "Requirement already satisfied: certifi>=2023.7.22 in /usr/local/lib/python3.10/dist-packages (from kaggle) (2024.2.2)\n",
            "Requirement already satisfied: python-dateutil in /usr/local/lib/python3.10/dist-packages (from kaggle) (2.8.2)\n",
            "Requirement already satisfied: requests in /usr/local/lib/python3.10/dist-packages (from kaggle) (2.31.0)\n",
            "Requirement already satisfied: tqdm in /usr/local/lib/python3.10/dist-packages (from kaggle) (4.66.4)\n",
            "Requirement already satisfied: python-slugify in /usr/local/lib/python3.10/dist-packages (from kaggle) (8.0.4)\n",
            "Requirement already satisfied: urllib3 in /usr/local/lib/python3.10/dist-packages (from kaggle) (2.0.7)\n",
            "Requirement already satisfied: bleach in /usr/local/lib/python3.10/dist-packages (from kaggle) (6.1.0)\n",
            "Requirement already satisfied: webencodings in /usr/local/lib/python3.10/dist-packages (from bleach->kaggle) (0.5.1)\n",
            "Requirement already satisfied: text-unidecode>=1.3 in /usr/local/lib/python3.10/dist-packages (from python-slugify->kaggle) (1.3)\n",
            "Requirement already satisfied: charset-normalizer<4,>=2 in /usr/local/lib/python3.10/dist-packages (from requests->kaggle) (3.3.2)\n",
            "Requirement already satisfied: idna<4,>=2.5 in /usr/local/lib/python3.10/dist-packages (from requests->kaggle) (3.7)\n"
          ]
        }
      ],
      "source": [
        "!pip install kaggle"
      ]
    },
    {
      "cell_type": "code",
      "execution_count": 2,
      "metadata": {
        "id": "4cNOMwNlY51i"
      },
      "outputs": [],
      "source": [
        "#configurating the path of kaggle.json file\n",
        "!mkdir -p ~/.kaggle\n",
        "!cp kaggle.json ~/.kaggle/\n",
        "!chmod 600 ~/.kaggle/kaggle.json"
      ]
    },
    {
      "cell_type": "code",
      "execution_count": 3,
      "metadata": {
        "colab": {
          "base_uri": "https://localhost:8080/"
        },
        "id": "r97aFlSvY6PK",
        "outputId": "c93b7dee-8330-4440-fa65-4b1e8c3fd8d5"
      },
      "outputs": [
        {
          "output_type": "stream",
          "name": "stdout",
          "text": [
            "Dataset URL: https://www.kaggle.com/datasets/girinathrs211555/aadhaar-datasets\n",
            "License(s): unknown\n",
            "aadhaar-datasets.zip: Skipping, found more recently modified local copy (use --force to force download)\n"
          ]
        }
      ],
      "source": [
        "!kaggle datasets download -d girinathrs211555/aadhaar-datasets"
      ]
    },
    {
      "cell_type": "code",
      "execution_count": 4,
      "metadata": {
        "colab": {
          "base_uri": "https://localhost:8080/"
        },
        "id": "ldpGjSwRZFmR",
        "outputId": "f9d9a7a7-f7ed-462d-f1a9-46371bce706b"
      },
      "outputs": [
        {
          "output_type": "stream",
          "name": "stdout",
          "text": [
            "The dataset is extracted\n"
          ]
        }
      ],
      "source": [
        "# extrcing the compossed Dataset\n",
        "from zipfile import ZipFile\n",
        "dataset = '/content/aadhaar-datasets.zip'\n",
        "\n",
        "with ZipFile(dataset,'r') as zip:\n",
        "  zip.extractall()\n",
        "  print('The dataset is extracted')"
      ]
    },
    {
      "cell_type": "code",
      "source": [
        "import os\n",
        "import numpy as np\n",
        "import matplotlib.pyplot as plt\n",
        "import matplotlib.image as mpimg\n",
        "import cv2\n",
        "from google.colab.patches import cv2_imshow\n",
        "from PIL import Image\n",
        "from sklearn.model_selection import train_test_split"
      ],
      "metadata": {
        "id": "ulSyBHAizKGj"
      },
      "execution_count": 5,
      "outputs": []
    },
    {
      "cell_type": "code",
      "execution_count": 6,
      "metadata": {
        "id": "5i2eLSE1RyDF",
        "colab": {
          "base_uri": "https://localhost:8080/"
        },
        "outputId": "dfc5785e-fe8f-4bd3-ed1b-bae7256c176c"
      },
      "outputs": [
        {
          "output_type": "stream",
          "name": "stdout",
          "text": [
            "['BAT (311).jpeg', 'BAT (3101).jpg', 'BAT (100).jpg', 'BAT (2710).jpg', 'BAT (902).jpg']\n",
            "['BAT (423).jpg', 'BAT (392).jpeg', 'BAT (856).png', 'BAT (930).png', 'BAT (870).jpg']\n"
          ]
        }
      ],
      "source": [
        "Aadhaar_card_files = os.listdir('/content/AADHAAR_CARD_DETECTION/Aadhaar_card')\n",
        "print(Aadhaar_card_files[0:5])\n",
        "\n",
        "print(Aadhaar_card_files[-5:])"
      ]
    },
    {
      "cell_type": "code",
      "execution_count": 7,
      "metadata": {
        "id": "mYsM2XyJR5Ht",
        "colab": {
          "base_uri": "https://localhost:8080/"
        },
        "outputId": "b797fe0e-37d9-4dc4-9056-64eb47e61556"
      },
      "outputs": [
        {
          "output_type": "stream",
          "name": "stdout",
          "text": [
            "['A (2552).jpeg', 'A (345).jpg', 'A (1737).jpeg', 'A (870).jpeg', 'A (2895).jpeg']\n",
            "['A (497).jpg', 'A (2629).jpeg', 'A (826).jpeg', 'A (256).jpg', 'A (3514).jpeg']\n"
          ]
        }
      ],
      "source": [
        "Non_aadhaar_card_files = os.listdir('/content/AADHAAR_CARD_DETECTION/Not_Aadhaar_card')\n",
        "print(Non_aadhaar_card_files[0:5])\n",
        "\n",
        "print(Non_aadhaar_card_files[-5:])"
      ]
    },
    {
      "cell_type": "code",
      "execution_count": 8,
      "metadata": {
        "id": "3hX6uT4aiwve",
        "colab": {
          "base_uri": "https://localhost:8080/"
        },
        "outputId": "51902470-265b-46d2-d4cd-df120fe527e2"
      },
      "outputs": [
        {
          "output_type": "stream",
          "name": "stdout",
          "text": [
            "Number of with Aadhaar_card_files: 5000\n",
            "Number of without Non_aadhaar_card_files: 5000\n"
          ]
        }
      ],
      "source": [
        "print('Number of with Aadhaar_card_files:', len(Aadhaar_card_files))\n",
        "print('Number of without Non_aadhaar_card_files:', len(Non_aadhaar_card_files))"
      ]
    },
    {
      "cell_type": "code",
      "execution_count": 9,
      "metadata": {
        "id": "TS8X04UKSCmr"
      },
      "outputs": [],
      "source": [
        "#create the labels\n",
        "\n",
        "Aadhaar_card_labels = [1]*5000\n",
        "\n",
        "Non_aadhaar_card_labels = [0]*5000"
      ]
    },
    {
      "cell_type": "code",
      "execution_count": 10,
      "metadata": {
        "id": "NRQUhij6SHz8",
        "colab": {
          "base_uri": "https://localhost:8080/"
        },
        "outputId": "fae9b4a8-f065-4a6f-a114-b066752a9891"
      },
      "outputs": [
        {
          "output_type": "stream",
          "name": "stdout",
          "text": [
            "[1, 1, 1, 1, 1]\n",
            "[0, 0, 0, 0, 0]\n"
          ]
        }
      ],
      "source": [
        "# Checking wheather the labels are created as expected\n",
        "print(Aadhaar_card_labels[0:5])\n",
        "\n",
        "print(Non_aadhaar_card_labels[0:5])"
      ]
    },
    {
      "cell_type": "code",
      "execution_count": 11,
      "metadata": {
        "id": "z3tODrpWSPhy",
        "colab": {
          "base_uri": "https://localhost:8080/"
        },
        "outputId": "fbce07ee-f3ee-4c51-c368-4f654501d9e2"
      },
      "outputs": [
        {
          "output_type": "stream",
          "name": "stdout",
          "text": [
            "10000\n",
            "[1, 1, 1, 1, 1]\n",
            "[0, 0, 0, 0, 0]\n"
          ]
        }
      ],
      "source": [
        "# I am Concanating  the  two class as labels\n",
        "\n",
        "labels = Aadhaar_card_labels + Non_aadhaar_card_labels\n",
        "\n",
        "print(len(labels))\n",
        "print(labels[0:5])\n",
        "print(labels[-5:])"
      ]
    },
    {
      "cell_type": "code",
      "execution_count": 12,
      "metadata": {
        "id": "KD1vGK_bSSQV"
      },
      "outputs": [],
      "source": [
        "# Convert images to numpy arrays\n",
        "\n",
        "Aadhaar_card__path = '/content/AADHAAR_CARD_DETECTION/Aadhaar_card/'\n",
        "\n",
        "data = []\n",
        "for img_file in Aadhaar_card_files:\n",
        "\n",
        "  image = Image.open(Aadhaar_card__path + img_file)\n",
        "  image = image.resize((128,128))\n",
        "  image = image.convert(\"RGB\")\n",
        "  image = np.array(image)\n",
        "  data.append(image)\n",
        "\n",
        "Non_aadhaar_card_path = '/content/AADHAAR_CARD_DETECTION/Not_Aadhaar_card/'\n",
        "\n",
        "for img_file in Non_aadhaar_card_files:\n",
        "\n",
        "  image = Image.open(Non_aadhaar_card_path + img_file)\n",
        "  image = image.resize((128,128))\n",
        "  image = image.convert(\"RGB\")\n",
        "  image = np.array(image)\n",
        "  data.append(image)"
      ]
    },
    {
      "cell_type": "code",
      "execution_count": 13,
      "metadata": {
        "id": "CiuF5jiPSp4W"
      },
      "outputs": [],
      "source": [
        "# Coverting image list and the label list to numpy arrays\n",
        "\n",
        "X = np.array(data)\n",
        "Y = np.array(labels)"
      ]
    },
    {
      "cell_type": "code",
      "execution_count": 14,
      "metadata": {
        "id": "irb4mM7kiOwH",
        "colab": {
          "base_uri": "https://localhost:8080/"
        },
        "outputId": "284858f8-1586-443e-fb76-a59e49fbbf69"
      },
      "outputs": [
        {
          "output_type": "execute_result",
          "data": {
            "text/plain": [
              "numpy.ndarray"
            ]
          },
          "metadata": {},
          "execution_count": 14
        }
      ],
      "source": [
        "type(X)"
      ]
    },
    {
      "cell_type": "code",
      "execution_count": 15,
      "metadata": {
        "id": "x6svNbwjiSx8",
        "colab": {
          "base_uri": "https://localhost:8080/"
        },
        "outputId": "8c6ab249-6502-4fd5-fd7c-3b70ff118060"
      },
      "outputs": [
        {
          "output_type": "execute_result",
          "data": {
            "text/plain": [
              "numpy.ndarray"
            ]
          },
          "metadata": {},
          "execution_count": 15
        }
      ],
      "source": [
        "type(Y)"
      ]
    },
    {
      "cell_type": "code",
      "execution_count": 16,
      "metadata": {
        "id": "JxF68BZCiYUy",
        "colab": {
          "base_uri": "https://localhost:8080/"
        },
        "outputId": "5e8d2410-dbeb-48be-f49c-9efa148285c4"
      },
      "outputs": [
        {
          "output_type": "stream",
          "name": "stdout",
          "text": [
            "(10000, 128, 128, 3)\n",
            "(10000,)\n"
          ]
        }
      ],
      "source": [
        "print(X.shape)\n",
        "print(Y.shape)"
      ]
    },
    {
      "cell_type": "code",
      "execution_count": 17,
      "metadata": {
        "id": "jbysP44uikbc",
        "colab": {
          "base_uri": "https://localhost:8080/"
        },
        "outputId": "e3ba8596-0add-43c9-da5b-bdf7b2b6d66b"
      },
      "outputs": [
        {
          "output_type": "stream",
          "name": "stdout",
          "text": [
            "[1 1 1 ... 0 0 0]\n"
          ]
        }
      ],
      "source": [
        "print(Y)"
      ]
    },
    {
      "cell_type": "code",
      "execution_count": 18,
      "metadata": {
        "id": "vkloQnkgS2I-"
      },
      "outputs": [],
      "source": [
        "X_train, X_test, Y_train, Y_test = train_test_split(X, Y, test_size=0.2, random_state=2)"
      ]
    },
    {
      "cell_type": "code",
      "execution_count": 19,
      "metadata": {
        "id": "wffuIz4US4As"
      },
      "outputs": [],
      "source": [
        "#Scaling the data\n",
        "\n",
        "X_train_scaled = X_train/255\n",
        "\n",
        "X_test_scaled = X_test/255"
      ]
    },
    {
      "cell_type": "code",
      "execution_count": 20,
      "metadata": {
        "id": "uDWg0HAsS9mZ"
      },
      "outputs": [],
      "source": [
        "import tensorflow as tf\n",
        "from tensorflow import keras"
      ]
    },
    {
      "cell_type": "code",
      "execution_count": 21,
      "metadata": {
        "id": "TQdeQddgTKDy"
      },
      "outputs": [],
      "source": [
        "num_of_classes = 2\n",
        "\n",
        "model = keras.Sequential()\n",
        "\n",
        "model.add(keras.layers.Conv2D(64, kernel_size=(3, 3), activation='relu', input_shape=(128, 128, 3)))\n",
        "model.add(keras.layers.MaxPooling2D(pool_size=(2, 2)))\n",
        "\n",
        "model.add(keras.layers.Conv2D(128, kernel_size=(3, 3), activation='relu'))\n",
        "model.add(keras.layers.MaxPooling2D(pool_size=(2, 2)))\n",
        "\n",
        "model.add(keras.layers.Conv2D(256, kernel_size=(3, 3), activation='relu'))\n",
        "model.add(keras.layers.MaxPooling2D(pool_size=(2, 2)))\n",
        "\n",
        "model.add(keras.layers.Flatten())\n",
        "\n",
        "model.add(keras.layers.Dropout(0.7))  # Increased dropout rate\n",
        "model.add(keras.layers.Dense(128, activation='relu'))\n",
        "model.add(keras.layers.Dropout(0.7))  # Increased dropout rate\n",
        "\n",
        "model.add(keras.layers.Dense(num_of_classes, activation='softmax'))"
      ]
    },
    {
      "cell_type": "code",
      "execution_count": 22,
      "metadata": {
        "id": "YmvD4hHsTVo6"
      },
      "outputs": [],
      "source": [
        "# Compile the model\n",
        "model.compile(optimizer='adam', loss='sparse_categorical_crossentropy', metrics=['acc'])"
      ]
    },
    {
      "cell_type": "code",
      "execution_count": 23,
      "metadata": {
        "id": "VhB4bwkBTeOs",
        "colab": {
          "base_uri": "https://localhost:8080/"
        },
        "outputId": "ed77bcd1-6e41-496f-fcf0-357e27282e67"
      },
      "outputs": [
        {
          "output_type": "stream",
          "name": "stdout",
          "text": [
            "Epoch 1/10\n",
            "200/200 [==============================] - 16s 40ms/step - loss: 0.1016 - acc: 0.9506 - val_loss: 6.9737e-07 - val_acc: 1.0000\n",
            "Epoch 2/10\n",
            "200/200 [==============================] - 7s 36ms/step - loss: 6.3064e-04 - acc: 0.9997 - val_loss: 1.2666e-08 - val_acc: 1.0000\n",
            "Epoch 3/10\n",
            "200/200 [==============================] - 7s 35ms/step - loss: 4.9538e-06 - acc: 1.0000 - val_loss: 6.1840e-09 - val_acc: 1.0000\n",
            "Epoch 4/10\n",
            "200/200 [==============================] - 7s 36ms/step - loss: 1.8251e-04 - acc: 1.0000 - val_loss: 9.6858e-09 - val_acc: 1.0000\n",
            "Epoch 5/10\n",
            "200/200 [==============================] - 7s 36ms/step - loss: 0.0156 - acc: 0.9984 - val_loss: 0.1294 - val_acc: 0.9469\n",
            "Epoch 6/10\n",
            "200/200 [==============================] - 7s 34ms/step - loss: 0.0917 - acc: 0.9830 - val_loss: 5.2005e-08 - val_acc: 1.0000\n",
            "Epoch 7/10\n",
            "200/200 [==============================] - 7s 36ms/step - loss: 0.0159 - acc: 0.9997 - val_loss: 8.2143e-04 - val_acc: 1.0000\n",
            "Epoch 8/10\n",
            "200/200 [==============================] - 7s 35ms/step - loss: 5.4806e-05 - acc: 1.0000 - val_loss: 0.0000e+00 - val_acc: 1.0000\n",
            "Epoch 9/10\n",
            "200/200 [==============================] - 7s 37ms/step - loss: 1.9814e-06 - acc: 1.0000 - val_loss: 0.0000e+00 - val_acc: 1.0000\n",
            "Epoch 10/10\n",
            "200/200 [==============================] - 7s 34ms/step - loss: 1.8076e-06 - acc: 1.0000 - val_loss: 0.0000e+00 - val_acc: 1.0000\n"
          ]
        }
      ],
      "source": [
        "# Train the model with early stopping\n",
        "early_stopping = keras.callbacks.EarlyStopping(monitor='val_loss', patience=3, restore_best_weights=True)\n",
        "history = model.fit(X_train_scaled, Y_train, validation_split=0.2, epochs=10)\n"
      ]
    },
    {
      "cell_type": "code",
      "execution_count": 24,
      "metadata": {
        "id": "zfavzuhamCTr"
      },
      "outputs": [],
      "source": [
        "# Adjust the learning rate\n",
        "adam_optimizer = keras.optimizers.Adam(learning_rate=0.0001)"
      ]
    },
    {
      "cell_type": "code",
      "execution_count": 25,
      "metadata": {
        "id": "IK3QlnGdqAvj",
        "colab": {
          "base_uri": "https://localhost:8080/"
        },
        "outputId": "60fbec21-1dbb-4e8e-bebe-f77b637efc45"
      },
      "outputs": [
        {
          "output_type": "stream",
          "name": "stdout",
          "text": [
            "63/63 [==============================] - 1s 18ms/step - loss: 0.0000e+00 - acc: 1.0000\n",
            "Test Accuracy= 1.0\n"
          ]
        }
      ],
      "source": [
        "# Evaluate the model\n",
        "loss, accuracy = model.evaluate(X_test_scaled, Y_test)\n",
        "print('Test Accuracy=', accuracy)"
      ]
    },
    {
      "cell_type": "code",
      "execution_count": 26,
      "metadata": {
        "id": "hy_TqZySqB65",
        "colab": {
          "base_uri": "https://localhost:8080/",
          "height": 843
        },
        "outputId": "71960bd0-eea5-4422-fdd3-f3cb6ffc8fcd"
      },
      "outputs": [
        {
          "output_type": "display_data",
          "data": {
            "text/plain": [
              "<Figure size 640x480 with 1 Axes>"
            ],
            "image/png": "[encoded data removed]"
          },
          "metadata": {}
        },
        {
          "output_type": "display_data",
          "data": {
            "text/plain": [
              "<Figure size 640x480 with 1 Axes>"
            ],
            "image/png": "[encoded data removed]"
          },
          "metadata": {}
        }
      ],
      "source": [
        "# Plot the training history\n",
        "plt.plot(history.history['loss'], label='train loss')\n",
        "plt.plot(history.history['val_loss'], label='validation loss')\n",
        "plt.legend()\n",
        "plt.show()\n",
        "\n",
        "plt.plot(history.history['acc'], label='train accuracy')\n",
        "plt.plot(history.history['val_acc'], label='validation accuracy')\n",
        "plt.legend()\n",
        "plt.show()"
      ]
    },
    {
      "cell_type": "code",
      "execution_count": null,
      "metadata": {
        "id": "ZLgcicKtqcKA"
      },
      "outputs": [],
      "source": [
        "input_image_path = input('Path of the image to be predicted: ')\n",
        "\n",
        "input_image = cv2.imread(input_image_path)\n",
        "\n",
        "cv2_imshow(input_image)\n",
        "\n",
        "input_image_resized = cv2.resize(input_image, (128, 128))\n",
        "\n",
        "input_image_scaled = input_image_resized/255\n",
        "\n",
        "input_image_reshaped = np.reshape(input_image_scaled, [1,128,128,3])\n",
        "\n",
        "input_prediction = model.predict(input_image_reshaped)\n",
        "\n",
        "print(input_prediction)\n",
        "\n",
        "input_pred_label = np.argmax(input_prediction)\n",
        "\n",
        "print(input_pred_label)\n",
        "\n",
        "if input_pred_label == 1:\n",
        "\n",
        "  print('This is an aadhaar card')\n",
        "\n",
        "else:\n",
        "\n",
        "  print('This not an aadhaar card')"
      ]
    },
    {
      "cell_type": "code",
      "execution_count": 35,
      "metadata": {
        "id": "sHdTCwxG3oUO",
        "colab": {
          "base_uri": "https://localhost:8080/"
        },
        "outputId": "0a8819e6-3622-4ab1-b2b7-3e214f8751a5"
      },
      "outputs": [
        {
          "output_type": "stream",
          "name": "stderr",
          "text": [
            "/usr/local/lib/python3.10/dist-packages/keras/src/engine/training.py:3103: UserWarning: You are saving your model as an HDF5 file via `model.save()`. This file format is considered legacy. We recommend using instead the native Keras format, e.g. `model.save('my_model.keras')`.\n",
            "  saving_api.save_model(\n"
          ]
        }
      ],
      "source": [
        "model.save('Aero.h5')"
      ]
    }
  ],
  "metadata": {
    "accelerator": "GPU",
    "colab": {
      "gpuType": "T4",
      "provenance": [],
      "include_colab_link": true
    },
    "kernelspec": {
      "display_name": "Python 3",
      "name": "python3"
    },
    "language_info": {
      "name": "python"
    }
  },
  "nbformat": 4,
  "nbformat_minor": 0
}